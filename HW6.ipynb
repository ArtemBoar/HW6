{
 "cells": [
  {
   "cell_type": "code",
   "execution_count": 1,
   "id": "b565d47b-423c-40c6-addd-312ecdb6dcbd",
   "metadata": {},
   "outputs": [],
   "source": [
    "import numpy as np\n",
    "from sklearn.linear_model import LinearRegression\n",
    "from sklearn.metrics import mean_squared_error"
   ]
  },
  {
   "cell_type": "code",
   "execution_count": 2,
   "id": "b139b85f-3ef6-4e08-9666-44e1df46deca",
   "metadata": {},
   "outputs": [
    {
     "name": "stdout",
     "output_type": "stream",
     "text": [
      "Оптимальні ваги (Градієнтний спуск): [ 9678.57899074  3848.49836386   258.9319293  28847.39675431]\n",
      "Оптимальні ваги (Аналітичне рішення): [  100.21390247  -208.6752261    279.9566327  50253.23098562]\n",
      "Оптимальні ваги (Scikit-learn): [  100.21390247  -208.6752261    279.9566327  50253.23098562]\n",
      "MSE (Градієнтний спуск): 36293348.460359566\n",
      "MSE (Аналітичне рішення): 864955.43924716\n",
      "MSE (Scikit-learn): 864955.4392471598\n"
     ]
    }
   ],
   "source": [
    "def hypothesis(X, w):\n",
    "    return X @ w\n",
    "\n",
    "def compute_loss(X, y, w):\n",
    "    m = len(y)\n",
    "    predictions = hypothesis(X, w)\n",
    "    return (1 / (2 * m)) * np.sum((predictions - y) ** 2)\n",
    "def gradient_step(X, y, w, learning_rate):\n",
    "    m = len(y)\n",
    "    predictions = hypothesis(X, w)\n",
    "    gradient = (1 / m) * X.T @ (predictions - y)\n",
    "    return w - learning_rate * gradient\n",
    "\n",
    "\n",
    "def gradient_descent(X, y, learning_rate=0.01, epochs=1000):\n",
    "    w = np.zeros(X.shape[1])  \n",
    "    for i in range(epochs):\n",
    "        w = gradient_step(X, y, w, learning_rate)\n",
    "    return w\n",
    "\n",
    "\n",
    "def normal_equation(X, y):\n",
    "    return np.linalg.inv(X.T @ X) @ X.T @ y\n",
    "\n",
    "\n",
    "\n",
    "np.random.seed(0)\n",
    "X = np.random.rand(100, 3)\n",
    "true_w = np.array([150, 200, 300, 50000])\n",
    "X_b = np.c_[np.ones((X.shape[0], 1)), X]\n",
    "y = X_b @ true_w + np.random.randn(100) * 1000\n",
    "\n",
    "\n",
    "w_gradient_descent = gradient_descent(X_b, y, learning_rate=0.01, epochs=1000)\n",
    "\n",
    "\n",
    "w_normal_eq = normal_equation(X_b, y)\n",
    "\n",
    "\n",
    "lin_reg = LinearRegression()\n",
    "lin_reg.fit(X, y)\n",
    "y_pred_sklearn = lin_reg.predict(X)\n",
    "\n",
    "\n",
    "y_pred_gradient_descent = hypothesis(X_b, w_gradient_descent)\n",
    "y_pred_normal_eq = hypothesis(X_b, w_normal_eq)\n",
    "\n",
    "mse_gradient_descent = mean_squared_error(y, y_pred_gradient_descent)\n",
    "mse_normal_eq = mean_squared_error(y, y_pred_normal_eq)\n",
    "mse_sklearn = mean_squared_error(y, y_pred_sklearn)\n",
    "\n",
    "\n",
    "print(\"Оптимальні ваги (Градієнтний спуск):\", w_gradient_descent)\n",
    "print(\"Оптимальні ваги (Аналітичне рішення):\", w_normal_eq)\n",
    "print(\"Оптимальні ваги (Scikit-learn):\", np.r_[lin_reg.intercept_, lin_reg.coef_])\n",
    "\n",
    "print(\"MSE (Градієнтний спуск):\", mse_gradient_descent)\n",
    "print(\"MSE (Аналітичне рішення):\", mse_normal_eq)\n",
    "print(\"MSE (Scikit-learn):\", mse_sklearn)"
   ]
  },
  {
   "cell_type": "code",
   "execution_count": null,
   "id": "6125759b-d4c7-4124-92bd-c20706dde99d",
   "metadata": {},
   "outputs": [],
   "source": []
  }
 ],
 "metadata": {
  "kernelspec": {
   "display_name": "Python 3 (ipykernel)",
   "language": "python",
   "name": "python3"
  },
  "language_info": {
   "codemirror_mode": {
    "name": "ipython",
    "version": 3
   },
   "file_extension": ".py",
   "mimetype": "text/x-python",
   "name": "python",
   "nbconvert_exporter": "python",
   "pygments_lexer": "ipython3",
   "version": "3.12.3"
  }
 },
 "nbformat": 4,
 "nbformat_minor": 5
}
