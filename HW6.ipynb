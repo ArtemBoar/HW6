{
 "cells": [
  {
   "cell_type": "code",
   "execution_count": 3,
   "id": "b565d47b-423c-40c6-addd-312ecdb6dcbd",
   "metadata": {},
   "outputs": [],
   "source": [
    "import numpy as np\n",
    "import pandas as pd\n",
    "from sklearn.linear_model import LinearRegression\n",
    "from sklearn.metrics import mean_squared_error\n",
    "from sklearn.preprocessing import StandardScaler\n"
   ]
  },
  {
   "cell_type": "code",
   "execution_count": 11,
   "id": "b139b85f-3ef6-4e08-9666-44e1df46deca",
   "metadata": {},
   "outputs": [
    {
     "name": "stdout",
     "output_type": "stream",
     "text": [
      "Оптимальные веса (Градиентный спуск): [3.04382025e-16 4.39444124e-01 1.60696001e-01 3.72187885e-01]\n",
      "Оптимальные веса (Scikit-learn): [-1.73171608e+05  3.78762754e+02  4.06820034e+05  1.38604950e+06]\n",
      "MSE (Градиентный спуск): 1791170165422.4973\n",
      "MSE (Scikit-learn): 1791170049977.319\n"
     ]
    }
   ],
   "source": [
    "data = pd.read_csv('Housing.csv')\n",
    "\n",
    "\n",
    "X = data[['area', 'bedrooms', 'bathrooms']].values\n",
    "y = data['price'].values\n",
    "\n",
    "\n",
    "scaler_X = StandardScaler()\n",
    "scaler_y = StandardScaler()\n",
    "\n",
    "X_normalized = scaler_X.fit_transform(X)\n",
    "y_normalized = scaler_y.fit_transform(y.reshape(-1, 1)).flatten()\n",
    "\n",
    "X_b_normalized = np.c_[np.ones((X_normalized.shape[0], 1)), X_normalized]\n",
    "\n",
    "\n",
    "def hypothesis(X, w):\n",
    "    return X @ w\n",
    "\n",
    "def compute_loss(X, y, w):\n",
    "    m = len(y)\n",
    "    predictions = hypothesis(X, w)\n",
    "    return (1 / (2 * m)) * np.sum((predictions - y) ** 2)\n",
    "\n",
    "def gradient_step(X, y, w, learning_rate):\n",
    "    m = len(y)\n",
    "    predictions = hypothesis(X, w)\n",
    "    gradient = (1 / m) * X.T @ (predictions - y)\n",
    "    return w - learning_rate * gradient\n",
    "\n",
    "def gradient_descent(X, y, learning_rate=0.01, epochs=1000):\n",
    "    w = np.zeros(X.shape[1]) \n",
    "    for i in range(epochs):\n",
    "        w = gradient_step(X, y, w, learning_rate)\n",
    "        if np.isnan(w).any() or np.isinf(w).any():\n",
    "            print(\"Произошло переполнение или NaN значение. Прекращаем обучение.\")\n",
    "            break\n",
    "    return w\n",
    "\n",
    "w_gradient_descent = gradient_descent(X_b_normalized, y_normalized, learning_rate=0.01, epochs=1000)\n",
    "\n",
    "y_pred_gradient_descent_normalized = hypothesis(X_b_normalized, w_gradient_descent)\n",
    "\n",
    "y_pred_gradient_descent = scaler_y.inverse_transform(y_pred_gradient_descent_normalized.reshape(-1, 1)).flatten()\n",
    "\n",
    "lin_reg = LinearRegression()\n",
    "lin_reg.fit(X, y)\n",
    "y_pred_sklearn = lin_reg.predict(X)\n",
    "\n",
    "mse_gradient_descent = mean_squared_error(y, y_pred_gradient_descent)\n",
    "mse_sklearn = mean_squared_error(y, y_pred_sklearn)\n",
    "print(\"Оптимальные веса (Градиентный спуск):\", w_gradient_descent)\n",
    "print(\"Оптимальные веса (Scikit-learn):\", np.r_[lin_reg.intercept_, lin_reg.coef_])\n",
    "\n",
    "print(\"MSE (Градиентный спуск):\", mse_gradient_descent)\n",
    "print(\"MSE (Scikit-learn):\", mse_sklearn)"
   ]
  },
  {
   "cell_type": "code",
   "execution_count": null,
   "id": "6125759b-d4c7-4124-92bd-c20706dde99d",
   "metadata": {},
   "outputs": [],
   "source": []
  }
 ],
 "metadata": {
  "kernelspec": {
   "display_name": "Python 3 (ipykernel)",
   "language": "python",
   "name": "python3"
  },
  "language_info": {
   "codemirror_mode": {
    "name": "ipython",
    "version": 3
   },
   "file_extension": ".py",
   "mimetype": "text/x-python",
   "name": "python",
   "nbconvert_exporter": "python",
   "pygments_lexer": "ipython3",
   "version": "3.12.3"
  }
 },
 "nbformat": 4,
 "nbformat_minor": 5
}
